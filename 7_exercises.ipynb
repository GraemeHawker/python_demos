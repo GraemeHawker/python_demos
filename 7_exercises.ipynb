{
 "cells": [
  {
   "cell_type": "code",
   "execution_count": null,
   "metadata": {},
   "outputs": [],
   "source": [
    "'''\n",
    "Python for Data Analysis\n",
    "Introduction to Pandas exercises\n",
    "\n",
    "Graeme Hawker, University of Strathclyde\n",
    "2018-07-23\n",
    "'''\n",
    "\n",
    "import numpy as np\n",
    "import pandas as pd"
   ]
  },
  {
   "cell_type": "code",
   "execution_count": null,
   "metadata": {
    "scrolled": true
   },
   "outputs": [],
   "source": [
    "#Create a DataFrame from the data in the ‘LPT SCADA Data Example’ Excel file\n",
    "turbine_data = pd.read_csv('LDT SCADA Data Example.csv', index_col=0, parse_dates=True)\n",
    "turbine_data"
   ]
  },
  {
   "cell_type": "code",
   "execution_count": null,
   "metadata": {},
   "outputs": [],
   "source": [
    "#Show Frequency_Hz value in the 17th row of the data\n",
    "turbine_data.iloc[16].Frequency_Hz"
   ]
  },
  {
   "cell_type": "code",
   "execution_count": null,
   "metadata": {},
   "outputs": [],
   "source": [
    "#Show the row of values recorded at 2018-07-06 09:10:02.\n",
    "turbine_data.loc['2018-07-06 09:10:02']"
   ]
  },
  {
   "cell_type": "code",
   "execution_count": null,
   "metadata": {},
   "outputs": [],
   "source": [
    "#What is the standard deviation of the wind speed?\n",
    "turbine_data['WindSpeed_mps'].std()"
   ]
  },
  {
   "cell_type": "code",
   "execution_count": null,
   "metadata": {},
   "outputs": [],
   "source": [
    "#Extract the ‘Power_kW’ values for 09:11:00 to 09:12:00 as a Series.\n",
    "turbine_data.loc['2018-07-06 09:11:00':'2018-07-06 09:12:00']['Power_kW'].head()"
   ]
  },
  {
   "cell_type": "code",
   "execution_count": null,
   "metadata": {},
   "outputs": [],
   "source": [
    "#How many rows have a Reactive Power greater than 0 and a YawState of 4?\n",
    "turbine_data[(turbine_data.ReactivePower_kVAr > 0) & (turbine_data.YawState == 4)].shape[0]"
   ]
  },
  {
   "cell_type": "code",
   "execution_count": null,
   "metadata": {},
   "outputs": [],
   "source": [
    "#alternative using .query method\n",
    "turbine_data.query('ReactivePower_kVAr > 0 and YawState == 4').shape[0]"
   ]
  },
  {
   "cell_type": "code",
   "execution_count": null,
   "metadata": {},
   "outputs": [],
   "source": []
  }
 ],
 "metadata": {
  "kernelspec": {
   "display_name": "Python 3",
   "language": "python",
   "name": "python3"
  },
  "language_info": {
   "codemirror_mode": {
    "name": "ipython",
    "version": 3
   },
   "file_extension": ".py",
   "mimetype": "text/x-python",
   "name": "python",
   "nbconvert_exporter": "python",
   "pygments_lexer": "ipython3",
   "version": "3.7.6"
  }
 },
 "nbformat": 4,
 "nbformat_minor": 2
}
