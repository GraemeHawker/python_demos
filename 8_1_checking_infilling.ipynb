{
 "cells": [
  {
   "cell_type": "code",
   "execution_count": null,
   "metadata": {},
   "outputs": [],
   "source": [
    "'''\n",
    "Python for Data Analysis\n",
    "Quality Checking and Infilling\n",
    "\n",
    "Graeme Hawker, University of Strathclyde\n",
    "2018-07-23\n",
    "'''\n",
    "\n",
    "import numpy as np\n",
    "import pandas as pd"
   ]
  },
  {
   "cell_type": "code",
   "execution_count": null,
   "metadata": {},
   "outputs": [],
   "source": [
    "#create a DataFrame from an existing .csv file\n",
    "turbine_data_bad = pd.read_csv('power_curve_data_BAD.csv', index_col=0, parse_dates=True)\n",
    "turbine_data_bad.head()"
   ]
  },
  {
   "cell_type": "code",
   "execution_count": null,
   "metadata": {},
   "outputs": [],
   "source": [
    "#show missing entries - rows where any values are missing from any column\n",
    "turbine_data_bad[turbine_data_bad.isnull().any(axis=1)]"
   ]
  },
  {
   "cell_type": "code",
   "execution_count": null,
   "metadata": {},
   "outputs": [],
   "source": [
    "#infill missing values using forward propagation\n",
    "#note that we can filter the values in one DataFrame by those in another\n",
    "#use this here to show the infilled values based on the missing values in the original\n",
    "turbine_data_infilled = turbine_data_bad.fillna(method='pad')\n",
    "turbine_data_infilled[turbine_data_bad.isnull().any(axis=1)]"
   ]
  },
  {
   "cell_type": "code",
   "execution_count": null,
   "metadata": {},
   "outputs": [],
   "source": [
    "#show rows where the wind speed is above a credible number (e.g. 100m/s)\n",
    "turbine_data_infilled.query('Windspeed > 100')"
   ]
  },
  {
   "cell_type": "code",
   "execution_count": null,
   "metadata": {},
   "outputs": [],
   "source": [
    "#create a new Series of Boolean values which identifies these dubious rows\n",
    "turbine_data_infilled['bad_wind_value'] = (turbine_data_infilled['Windspeed'] >100)\n",
    "turbine_data_infilled.head()"
   ]
  },
  {
   "cell_type": "code",
   "execution_count": null,
   "metadata": {},
   "outputs": [],
   "source": [
    "#create a new Windspeed column with bad values replaced with NaN\n",
    "turbine_data_infilled['new_Windspeed'] = turbine_data_infilled['Windspeed'][turbine_data_infilled.bad_wind_value==False]\n",
    "turbine_data_infilled[turbine_data_infilled.bad_wind_value==True]"
   ]
  },
  {
   "cell_type": "code",
   "execution_count": null,
   "metadata": {},
   "outputs": [],
   "source": [
    "turbine_data_infilled['new_Windspeed'].interpolate()"
   ]
  },
  {
   "cell_type": "code",
   "execution_count": null,
   "metadata": {},
   "outputs": [],
   "source": [
    "#replace bad values with interpolated ones\n",
    "turbine_data_infilled['new_Windspeed'] = turbine_data_infilled['new_Windspeed'].interpolate()\n",
    "turbine_data_infilled[turbine_data_infilled.bad_wind_value==True]"
   ]
  },
  {
   "cell_type": "code",
   "execution_count": null,
   "metadata": {},
   "outputs": [],
   "source": []
  }
 ],
 "metadata": {
  "kernelspec": {
   "display_name": "Python 3",
   "language": "python",
   "name": "python3"
  },
  "language_info": {
   "codemirror_mode": {
    "name": "ipython",
    "version": 3
   },
   "file_extension": ".py",
   "mimetype": "text/x-python",
   "name": "python",
   "nbconvert_exporter": "python",
   "pygments_lexer": "ipython3",
   "version": "3.7.6"
  }
 },
 "nbformat": 4,
 "nbformat_minor": 2
}
