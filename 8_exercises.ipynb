{
 "cells": [
  {
   "cell_type": "code",
   "execution_count": null,
   "metadata": {},
   "outputs": [],
   "source": [
    "'''\n",
    "Python for Data Analysis\n",
    "Data QCing exercises\n",
    "\n",
    "Graeme Hawker, University of Strathclyde\n",
    "2018-07-23\n",
    "'''\n",
    "\n",
    "import numpy as np\n",
    "import pandas as pd"
   ]
  },
  {
   "cell_type": "code",
   "execution_count": null,
   "metadata": {},
   "outputs": [],
   "source": [
    "#Create a DataFrame from the data in the ‘LDT SCADA Data Example BAD’ csv file.\n",
    "turbine_data_bad = pd.read_csv('LDT SCADA Data Example BAD.csv', index_col=0, parse_dates=True)\n",
    "turbine_data_bad"
   ]
  },
  {
   "cell_type": "code",
   "execution_count": null,
   "metadata": {},
   "outputs": [],
   "source": [
    "#Some missing rows are contained in the ‘LDT SCADA Data Example MISSING’ csv file. \n",
    "turbine_data_missing = pd.read_csv('LDT SCADA Data Example MISSING.csv', index_col=0, parse_dates=True)\n",
    "turbine_data_missing"
   ]
  },
  {
   "cell_type": "code",
   "execution_count": null,
   "metadata": {},
   "outputs": [],
   "source": [
    "#Create a single DataFrame containing the combined data from the two files, \n",
    "#including checking for and removing any duplication of rows.\n",
    "turbine_data_combined = pd.concat([turbine_data_bad,turbine_data_missing])\n",
    "turbine_data_combined"
   ]
  },
  {
   "cell_type": "code",
   "execution_count": null,
   "metadata": {},
   "outputs": [],
   "source": [
    "turbine_data_combined_deduplicated = turbine_data_combined[~turbine_data_combined.index.duplicated()]\n",
    "turbine_data_combined_deduplicated"
   ]
  },
  {
   "cell_type": "code",
   "execution_count": null,
   "metadata": {},
   "outputs": [],
   "source": [
    "#Some rows are still blank and contain no values for any column other than the index. \n",
    "#Create a new DataFrame with these rows removed entirely.\n",
    "turbine_data_combined_deduplicated_dropped = turbine_data_combined_deduplicated.dropna(how='all')\n",
    "turbine_data_combined_deduplicated_dropped"
   ]
  },
  {
   "cell_type": "code",
   "execution_count": null,
   "metadata": {},
   "outputs": [],
   "source": [
    "#Check the Power_kW column for spurious values. \n",
    "#Create a new column with these values corrected appropriately.\n",
    "MAX_POWER_KW = 2000\n",
    "MIN_POWER_KW = -10\n",
    "turbine_data_combined_deduplicated_dropped[~turbine_data_combined_deduplicated_dropped['Power_kW'].between(MIN_POWER_KW,MAX_POWER_KW)]"
   ]
  },
  {
   "cell_type": "code",
   "execution_count": null,
   "metadata": {},
   "outputs": [],
   "source": [
    "turbine_data_corrected = turbine_data_combined_deduplicated_dropped.copy()\n",
    "turbine_data_corrected['Bad_Power_kW'] = ~turbine_data_combined_deduplicated_dropped['Power_kW'].between(MIN_POWER_KW,MAX_POWER_KW)\n",
    "turbine_data_corrected"
   ]
  },
  {
   "cell_type": "code",
   "execution_count": null,
   "metadata": {},
   "outputs": [],
   "source": [
    "turbine_data_corrected['New_Power_kW'] = turbine_data_corrected['Power_kW'][turbine_data_corrected.Bad_Power_kW==False]\n",
    "turbine_data_corrected[turbine_data_corrected['Bad_Power_kW']==True]"
   ]
  },
  {
   "cell_type": "code",
   "execution_count": null,
   "metadata": {},
   "outputs": [],
   "source": [
    "turbine_data_corrected['New_Power_kW']=turbine_data_corrected['New_Power_kW'].interpolate()\n",
    "turbine_data_corrected[turbine_data_corrected['Bad_Power_kW']==True]"
   ]
  },
  {
   "cell_type": "code",
   "execution_count": null,
   "metadata": {},
   "outputs": [],
   "source": [
    "#Save the original and corrected data as two sheets in a single Excel workbook. \n",
    "writer = pd.ExcelWriter('turbine_data_example.xlsx')\n",
    "turbine_data_combined.to_excel(writer,'Raw Data')\n",
    "turbine_data_corrected.to_excel(writer,'Corrected Data')\n",
    "writer.save()"
   ]
  },
  {
   "cell_type": "code",
   "execution_count": null,
   "metadata": {},
   "outputs": [],
   "source": []
  }
 ],
 "metadata": {
  "kernelspec": {
   "display_name": "Python 3",
   "language": "python",
   "name": "python3"
  },
  "language_info": {
   "codemirror_mode": {
    "name": "ipython",
    "version": 3
   },
   "file_extension": ".py",
   "mimetype": "text/x-python",
   "name": "python",
   "nbconvert_exporter": "python",
   "pygments_lexer": "ipython3",
   "version": "3.6.6"
  }
 },
 "nbformat": 4,
 "nbformat_minor": 2
}
