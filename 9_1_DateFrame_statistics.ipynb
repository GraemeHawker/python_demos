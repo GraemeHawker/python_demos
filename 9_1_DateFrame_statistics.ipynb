{
 "cells": [
  {
   "cell_type": "code",
   "execution_count": 1,
   "metadata": {},
   "outputs": [],
   "source": [
    "'''\n",
    "Python for Data Analysis\n",
    "Inbuilt DataFrame statistics examples\n",
    "\n",
    "Graeme Hawker, University of Strathclyde\n",
    "2018-07-23\n",
    "'''\n",
    "\n",
    "import numpy as np\n",
    "import pandas as pd"
   ]
  },
  {
   "cell_type": "code",
   "execution_count": 2,
   "metadata": {},
   "outputs": [
    {
     "data": {
      "text/html": [
       "<div>\n",
       "<style scoped>\n",
       "    .dataframe tbody tr th:only-of-type {\n",
       "        vertical-align: middle;\n",
       "    }\n",
       "\n",
       "    .dataframe tbody tr th {\n",
       "        vertical-align: top;\n",
       "    }\n",
       "\n",
       "    .dataframe thead th {\n",
       "        text-align: right;\n",
       "    }\n",
       "</style>\n",
       "<table border=\"1\" class=\"dataframe\">\n",
       "  <thead>\n",
       "    <tr style=\"text-align: right;\">\n",
       "      <th></th>\n",
       "      <th>Windspeed</th>\n",
       "      <th>Power</th>\n",
       "    </tr>\n",
       "    <tr>\n",
       "      <th>Timestamp</th>\n",
       "      <th></th>\n",
       "      <th></th>\n",
       "    </tr>\n",
       "  </thead>\n",
       "  <tbody>\n",
       "    <tr>\n",
       "      <th>2010-01-01 00:00:00</th>\n",
       "      <td>8.21859</td>\n",
       "      <td>0.527433</td>\n",
       "    </tr>\n",
       "    <tr>\n",
       "      <th>2010-01-01 00:10:00</th>\n",
       "      <td>10.07550</td>\n",
       "      <td>0.698405</td>\n",
       "    </tr>\n",
       "    <tr>\n",
       "      <th>2010-01-01 00:20:00</th>\n",
       "      <td>10.18490</td>\n",
       "      <td>0.642705</td>\n",
       "    </tr>\n",
       "    <tr>\n",
       "      <th>2010-01-01 00:30:00</th>\n",
       "      <td>8.56266</td>\n",
       "      <td>0.534949</td>\n",
       "    </tr>\n",
       "    <tr>\n",
       "      <th>2010-01-01 00:40:00</th>\n",
       "      <td>8.93533</td>\n",
       "      <td>0.394143</td>\n",
       "    </tr>\n",
       "  </tbody>\n",
       "</table>\n",
       "</div>"
      ],
      "text/plain": [
       "                     Windspeed     Power\n",
       "Timestamp                               \n",
       "2010-01-01 00:00:00    8.21859  0.527433\n",
       "2010-01-01 00:10:00   10.07550  0.698405\n",
       "2010-01-01 00:20:00   10.18490  0.642705\n",
       "2010-01-01 00:30:00    8.56266  0.534949\n",
       "2010-01-01 00:40:00    8.93533  0.394143"
      ]
     },
     "execution_count": 2,
     "metadata": {},
     "output_type": "execute_result"
    }
   ],
   "source": [
    "#create a DataFrame from an existing .csv file\n",
    "#we indicate that the first column of the file is an index rather than data, and contains datetime objects\n",
    "#this means that the function will attempt to construct a DatetimeIndex from this column\n",
    "turbine_data = pd.read_csv('power_curve_data.csv', index_col=0, parse_dates=True)\n",
    "\n",
    "#inspect first 5 rows\n",
    "turbine_data.head()"
   ]
  },
  {
   "cell_type": "code",
   "execution_count": 3,
   "metadata": {},
   "outputs": [
    {
     "data": {
      "text/plain": [
       "Windspeed    17.756001\n",
       "Power         0.983773\n",
       "dtype: float64"
      ]
     },
     "execution_count": 3,
     "metadata": {},
     "output_type": "execute_result"
    }
   ],
   "source": [
    "#use inbuilt DataFrame functions to look at aggregate statistics\n",
    "#max value in each column\n",
    "turbine_data.max()"
   ]
  },
  {
   "cell_type": "code",
   "execution_count": 4,
   "metadata": {},
   "outputs": [
    {
     "data": {
      "text/plain": [
       "Windspeed    5.894073\n",
       "Power        0.213854\n",
       "dtype: float64"
      ]
     },
     "execution_count": 4,
     "metadata": {},
     "output_type": "execute_result"
    }
   ],
   "source": [
    "#mean of each column\n",
    "turbine_data.mean()"
   ]
  },
  {
   "cell_type": "code",
   "execution_count": 7,
   "metadata": {},
   "outputs": [
    {
     "data": {
      "text/plain": [
       "Timestamp\n",
       "2010-01-01 00:00:00    4.373011\n",
       "2010-01-01 00:10:00    5.386952\n",
       "2010-01-01 00:20:00    5.413803\n",
       "2010-01-01 00:30:00    4.548805\n",
       "2010-01-01 00:40:00    4.664737\n",
       "dtype: float64"
      ]
     },
     "execution_count": 7,
     "metadata": {},
     "output_type": "execute_result"
    }
   ],
   "source": [
    "#mean of each row (meaningless example)\n",
    "#only look at first 5 rows\n",
    "turbine_data.mean(axis=1).head()"
   ]
  },
  {
   "cell_type": "code",
   "execution_count": 14,
   "metadata": {},
   "outputs": [
    {
     "data": {
      "text/plain": [
       "Rolling [window=60,min_periods=1,center=False,axis=0]"
      ]
     },
     "execution_count": 14,
     "metadata": {},
     "output_type": "execute_result"
    }
   ],
   "source": [
    "#use of aggregation\n",
    "#create a rolling window (we pass this as a new object)\n",
    "rolling_data = turbine_data.rolling(window=60,min_periods=1)\n",
    "rolling_data"
   ]
  },
  {
   "cell_type": "code",
   "execution_count": 15,
   "metadata": {},
   "outputs": [
    {
     "data": {
      "text/html": [
       "<div>\n",
       "<style scoped>\n",
       "    .dataframe tbody tr th:only-of-type {\n",
       "        vertical-align: middle;\n",
       "    }\n",
       "\n",
       "    .dataframe tbody tr th {\n",
       "        vertical-align: top;\n",
       "    }\n",
       "\n",
       "    .dataframe thead th {\n",
       "        text-align: right;\n",
       "    }\n",
       "</style>\n",
       "<table border=\"1\" class=\"dataframe\">\n",
       "  <thead>\n",
       "    <tr style=\"text-align: right;\">\n",
       "      <th></th>\n",
       "      <th>Windspeed</th>\n",
       "      <th>Power</th>\n",
       "    </tr>\n",
       "    <tr>\n",
       "      <th>Timestamp</th>\n",
       "      <th></th>\n",
       "      <th></th>\n",
       "    </tr>\n",
       "  </thead>\n",
       "  <tbody>\n",
       "    <tr>\n",
       "      <th>2010-01-01 00:00:00</th>\n",
       "      <td>8.218590</td>\n",
       "      <td>0.527433</td>\n",
       "    </tr>\n",
       "    <tr>\n",
       "      <th>2010-01-01 00:10:00</th>\n",
       "      <td>9.147045</td>\n",
       "      <td>0.612919</td>\n",
       "    </tr>\n",
       "    <tr>\n",
       "      <th>2010-01-01 00:20:00</th>\n",
       "      <td>9.492997</td>\n",
       "      <td>0.622848</td>\n",
       "    </tr>\n",
       "    <tr>\n",
       "      <th>2010-01-01 00:30:00</th>\n",
       "      <td>9.260412</td>\n",
       "      <td>0.600873</td>\n",
       "    </tr>\n",
       "    <tr>\n",
       "      <th>2010-01-01 00:40:00</th>\n",
       "      <td>9.195396</td>\n",
       "      <td>0.559527</td>\n",
       "    </tr>\n",
       "  </tbody>\n",
       "</table>\n",
       "</div>"
      ],
      "text/plain": [
       "                     Windspeed     Power\n",
       "Timestamp                               \n",
       "2010-01-01 00:00:00   8.218590  0.527433\n",
       "2010-01-01 00:10:00   9.147045  0.612919\n",
       "2010-01-01 00:20:00   9.492997  0.622848\n",
       "2010-01-01 00:30:00   9.260412  0.600873\n",
       "2010-01-01 00:40:00   9.195396  0.559527"
      ]
     },
     "execution_count": 15,
     "metadata": {},
     "output_type": "execute_result"
    }
   ],
   "source": [
    "#calculate rolling mean by passing np.mean function\n",
    "rolling_data.aggregate(np.mean).head()"
   ]
  },
  {
   "cell_type": "code",
   "execution_count": 17,
   "metadata": {},
   "outputs": [
    {
     "data": {
      "text/html": [
       "<div>\n",
       "<style scoped>\n",
       "    .dataframe tbody tr th:only-of-type {\n",
       "        vertical-align: middle;\n",
       "    }\n",
       "\n",
       "    .dataframe tbody tr th {\n",
       "        vertical-align: top;\n",
       "    }\n",
       "\n",
       "    .dataframe thead th {\n",
       "        text-align: right;\n",
       "    }\n",
       "</style>\n",
       "<table border=\"1\" class=\"dataframe\">\n",
       "  <thead>\n",
       "    <tr style=\"text-align: right;\">\n",
       "      <th></th>\n",
       "      <th>sum</th>\n",
       "      <th>mean</th>\n",
       "      <th>std</th>\n",
       "    </tr>\n",
       "    <tr>\n",
       "      <th>Timestamp</th>\n",
       "      <th></th>\n",
       "      <th></th>\n",
       "      <th></th>\n",
       "    </tr>\n",
       "  </thead>\n",
       "  <tbody>\n",
       "    <tr>\n",
       "      <th>2010-01-01 00:00:00</th>\n",
       "      <td>8.218590</td>\n",
       "      <td>8.218590</td>\n",
       "      <td>NaN</td>\n",
       "    </tr>\n",
       "    <tr>\n",
       "      <th>2010-01-01 00:10:00</th>\n",
       "      <td>18.294089</td>\n",
       "      <td>9.147045</td>\n",
       "      <td>1.313033</td>\n",
       "    </tr>\n",
       "    <tr>\n",
       "      <th>2010-01-01 00:20:00</th>\n",
       "      <td>28.478990</td>\n",
       "      <td>9.492997</td>\n",
       "      <td>1.105023</td>\n",
       "    </tr>\n",
       "    <tr>\n",
       "      <th>2010-01-01 00:30:00</th>\n",
       "      <td>37.041650</td>\n",
       "      <td>9.260412</td>\n",
       "      <td>1.015102</td>\n",
       "    </tr>\n",
       "    <tr>\n",
       "      <th>2010-01-01 00:40:00</th>\n",
       "      <td>45.976980</td>\n",
       "      <td>9.195396</td>\n",
       "      <td>0.891044</td>\n",
       "    </tr>\n",
       "  </tbody>\n",
       "</table>\n",
       "</div>"
      ],
      "text/plain": [
       "                           sum      mean       std\n",
       "Timestamp                                         \n",
       "2010-01-01 00:00:00   8.218590  8.218590       NaN\n",
       "2010-01-01 00:10:00  18.294089  9.147045  1.313033\n",
       "2010-01-01 00:20:00  28.478990  9.492997  1.105023\n",
       "2010-01-01 00:30:00  37.041650  9.260412  1.015102\n",
       "2010-01-01 00:40:00  45.976980  9.195396  0.891044"
      ]
     },
     "execution_count": 17,
     "metadata": {},
     "output_type": "execute_result"
    }
   ],
   "source": [
    "#calculate multiple values for a single column\n",
    "rolling_data['Windspeed'].agg([np.sum, np.mean, np.std]).head()"
   ]
  },
  {
   "cell_type": "code",
   "execution_count": null,
   "metadata": {},
   "outputs": [],
   "source": []
  }
 ],
 "metadata": {
  "kernelspec": {
   "display_name": "Python 3",
   "language": "python",
   "name": "python3"
  },
  "language_info": {
   "codemirror_mode": {
    "name": "ipython",
    "version": 3
   },
   "file_extension": ".py",
   "mimetype": "text/x-python",
   "name": "python",
   "nbconvert_exporter": "python",
   "pygments_lexer": "ipython3",
   "version": "3.6.6"
  }
 },
 "nbformat": 4,
 "nbformat_minor": 2
}
