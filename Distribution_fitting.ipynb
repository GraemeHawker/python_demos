{
 "cells": [
  {
   "cell_type": "markdown",
   "metadata": {},
   "source": [
    "# Fitting distributions and significance testing\n",
    "Graeme Hawker, University of Strathclyde, 21st February 2020"
   ]
  },
  {
   "cell_type": "code",
   "execution_count": 16,
   "metadata": {},
   "outputs": [],
   "source": [
    "import pandas as pd\n",
    "import numpy as np\n",
    "import matplotlib.pyplot as plt\n",
    "from scipy import stats"
   ]
  },
  {
   "cell_type": "code",
   "execution_count": 3,
   "metadata": {},
   "outputs": [
    {
     "data": {
      "text/html": [
       "<div>\n",
       "<style scoped>\n",
       "    .dataframe tbody tr th:only-of-type {\n",
       "        vertical-align: middle;\n",
       "    }\n",
       "\n",
       "    .dataframe tbody tr th {\n",
       "        vertical-align: top;\n",
       "    }\n",
       "\n",
       "    .dataframe thead th {\n",
       "        text-align: right;\n",
       "    }\n",
       "</style>\n",
       "<table border=\"1\" class=\"dataframe\">\n",
       "  <thead>\n",
       "    <tr style=\"text-align: right;\">\n",
       "      <th></th>\n",
       "      <th>Windspeed</th>\n",
       "      <th>Power</th>\n",
       "    </tr>\n",
       "    <tr>\n",
       "      <th>Timestamp</th>\n",
       "      <th></th>\n",
       "      <th></th>\n",
       "    </tr>\n",
       "  </thead>\n",
       "  <tbody>\n",
       "    <tr>\n",
       "      <th>2010-01-01 00:00:00</th>\n",
       "      <td>8.21859</td>\n",
       "      <td>0.527433</td>\n",
       "    </tr>\n",
       "    <tr>\n",
       "      <th>2010-01-01 00:10:00</th>\n",
       "      <td>10.07550</td>\n",
       "      <td>0.698405</td>\n",
       "    </tr>\n",
       "    <tr>\n",
       "      <th>2010-01-01 00:20:00</th>\n",
       "      <td>10.18490</td>\n",
       "      <td>0.642705</td>\n",
       "    </tr>\n",
       "    <tr>\n",
       "      <th>2010-01-01 00:30:00</th>\n",
       "      <td>8.56266</td>\n",
       "      <td>0.534949</td>\n",
       "    </tr>\n",
       "    <tr>\n",
       "      <th>2010-01-01 00:40:00</th>\n",
       "      <td>8.93533</td>\n",
       "      <td>0.394143</td>\n",
       "    </tr>\n",
       "  </tbody>\n",
       "</table>\n",
       "</div>"
      ],
      "text/plain": [
       "                     Windspeed     Power\n",
       "Timestamp                               \n",
       "2010-01-01 00:00:00    8.21859  0.527433\n",
       "2010-01-01 00:10:00   10.07550  0.698405\n",
       "2010-01-01 00:20:00   10.18490  0.642705\n",
       "2010-01-01 00:30:00    8.56266  0.534949\n",
       "2010-01-01 00:40:00    8.93533  0.394143"
      ]
     },
     "execution_count": 3,
     "metadata": {},
     "output_type": "execute_result"
    }
   ],
   "source": [
    "# create a DataFrame from an existing .csv file\n",
    "# we indicate that the first column of the file is an index rather than data, and contains datetime objects\n",
    "# this means that the function will attempt to construct a DatetimeIndex from this column\n",
    "turbine_data = pd.read_csv('data/power_curve_data.csv', index_col=0, parse_dates=True)\n",
    "\n",
    "# inspect first 5 rows\n",
    "turbine_data.head()"
   ]
  },
  {
   "cell_type": "code",
   "execution_count": 27,
   "metadata": {},
   "outputs": [
    {
     "name": "stdout",
     "output_type": "stream",
     "text": [
      "[ 0.   0.5  1.   1.5  2.   2.5  3.   3.5  4.   4.5  5.   5.5  6.   6.5\n",
      "  7.   7.5  8.   8.5  9.   9.5 10.  10.5 11.  11.5 12.  12.5 13.  13.5\n",
      " 14.  14.5 15.  15.5 16.  16.5 17.  17.5]\n"
     ]
    }
   ],
   "source": [
    "# define a domain of wind speed bins \n",
    "# as whole range of wind speeds at 0.5m/s intervals\n",
    "wind_bins = np.arange(0, turbine_data['Windspeed'].max(), 0.5)\n",
    "print(wind_bins)"
   ]
  },
  {
   "cell_type": "code",
   "execution_count": 28,
   "metadata": {},
   "outputs": [
    {
     "data": {
      "text/plain": [
       "<matplotlib.axes._subplots.AxesSubplot at 0x2401ef2b588>"
      ]
     },
     "execution_count": 28,
     "metadata": {},
     "output_type": "execute_result"
    },
    {
     "data": {
      "image/png": "[encoded data removed]",
      "text/plain": [
       "<Figure size 432x288 with 1 Axes>"
      ]
     },
     "metadata": {
      "needs_background": "light"
     },
     "output_type": "display_data"
    }
   ],
   "source": [
    "# plot the histogram of windspeeds\n",
    "# https://pandas.pydata.org/pandas-docs/stable/reference/api/pandas.DataFrame.hist.html\n",
    "turbine_data['Windspeed'].plot(kind='hist', \n",
    "                               bins=wind_bins)"
   ]
  },
  {
   "cell_type": "code",
   "execution_count": 37,
   "metadata": {},
   "outputs": [
    {
     "data": {
      "image/png": "[encoded data removed]",
      "text/plain": [
       "<Figure size 432x288 with 1 Axes>"
      ]
     },
     "metadata": {
      "needs_background": "light"
     },
     "output_type": "display_data"
    }
   ],
   "source": [
    "# derive the best fit Weibull distribution (2 params)\n",
    "# for the given wind speed distribution\n",
    "# scipy provides methods for the exponentiated weibull (3 params), so we force exponent to 1\n",
    "# to fit the unexponentiated weibull distribution\n",
    "# https://docs.scipy.org/doc/scipy/reference/generated/scipy.stats.exponweib.html\n",
    "a_out, kappa_out, loc_out, lambda_out = stats.exponweib.fit(turbine_data['Windspeed'], floc=0, f0=1)\n",
    "\n",
    "# create plot using matplotlib library directly (rather than calling via pandas methods)\n",
    "# this gives us access to more functionality for multi-plot formatting\n",
    "fig = plt.figure() \n",
    "ax = fig.add_subplot(1, 1, 1) # this creates the plot space which we can now manipulate directly\n",
    "\n",
    "# plot fitted weibull distribution for given bins\n",
    "ax.plot(wind_bins,\n",
    "        stats.exponweib.pdf(wind_bins,\n",
    "                            a=a_out,\n",
    "                            c=kappa_out,\n",
    "                            loc=loc_out,\n",
    "                            scale = lambda_out))\n",
    "\n",
    "# overlay histogram of wind speeds with transparency\n",
    "# normalise histogram (density=True) to give total integral=1.0 for comparing distributions\n",
    "ax.hist(turbine_data['Windspeed'],\n",
    "        bins = wind_bins,\n",
    "        density=True,\n",
    "        alpha=0.5)\n",
    "\n",
    "# add annotation of weibull parameters to plot\n",
    "ax.annotate(\"Shape: $k = %.2f$ \\n Scale: $\\lambda = %.2f$\"%(kappa_out,Lambda_out),\n",
    "            xy=(0.7, 0.85),\n",
    "            xycoords=ax.transAxes)\n",
    "\n",
    "# finally, display the completed plot\n",
    "plt.show()"
   ]
  },
  {
   "cell_type": "code",
   "execution_count": null,
   "metadata": {},
   "outputs": [],
   "source": [
    "# determine goodness of fit - does this weibull appropriately fit the data?"
   ]
  }
 ],
 "metadata": {
  "kernelspec": {
   "display_name": "Python 3",
   "language": "python",
   "name": "python3"
  },
  "language_info": {
   "codemirror_mode": {
    "name": "ipython",
    "version": 3
   },
   "file_extension": ".py",
   "mimetype": "text/x-python",
   "name": "python",
   "nbconvert_exporter": "python",
   "pygments_lexer": "ipython3",
   "version": "3.7.6"
  }
 },
 "nbformat": 4,
 "nbformat_minor": 4
}
