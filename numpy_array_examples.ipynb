{
 "cells": [
  {
   "cell_type": "markdown",
   "metadata": {},
   "source": [
    "# Numpy examples\n",
    "\n",
    "Graeme Hawker, University of Strathclyde, 2018-07-23\n",
    "\n",
    "See https://docs.scipy.org/doc/numpy/index.html"
   ]
  },
  {
   "cell_type": "code",
   "execution_count": 1,
   "metadata": {},
   "outputs": [],
   "source": [
    "import numpy as np"
   ]
  },
  {
   "cell_type": "code",
   "execution_count": 2,
   "metadata": {},
   "outputs": [
    {
     "data": {
      "text/plain": [
       "10"
      ]
     },
     "execution_count": 2,
     "metadata": {},
     "output_type": "execute_result"
    }
   ],
   "source": [
    "# create a 1d numpy array and index\n",
    "a = np.array([10,20,30,40])\n",
    "a[0]"
   ]
  },
  {
   "cell_type": "code",
   "execution_count": 5,
   "metadata": {},
   "outputs": [
    {
     "name": "stdout",
     "output_type": "stream",
     "text": [
      "[[4 6 5]\n",
      " [3 1 2]]\n"
     ]
    }
   ],
   "source": [
    "# create a couple of 2d numpy arrays\n",
    "# we use the print() function as this shows the array in a readable format\n",
    "a = np.array([[4, 6, 5],[3, 1, 2]])\n",
    "b = np.array([[7, 8, 9]])\n",
    "print(a)"
   ]
  },
  {
   "cell_type": "code",
   "execution_count": 6,
   "metadata": {},
   "outputs": [
    {
     "name": "stdout",
     "output_type": "stream",
     "text": [
      "[[7 8 9]]\n"
     ]
    }
   ],
   "source": [
    "print(b)"
   ]
  },
  {
   "cell_type": "code",
   "execution_count": 7,
   "metadata": {},
   "outputs": [
    {
     "name": "stdout",
     "output_type": "stream",
     "text": [
      "[[3 1 2]\n",
      " [4 6 5]]\n"
     ]
    }
   ],
   "source": [
    "# sorting along axes\n",
    "a.sort(axis=0)\n",
    "print(a)"
   ]
  },
  {
   "cell_type": "code",
   "execution_count": 8,
   "metadata": {},
   "outputs": [
    {
     "name": "stdout",
     "output_type": "stream",
     "text": [
      "[[1 2 3]\n",
      " [4 5 6]]\n"
     ]
    }
   ],
   "source": [
    "a.sort(axis=1)\n",
    "print(a)"
   ]
  },
  {
   "cell_type": "code",
   "execution_count": 9,
   "metadata": {},
   "outputs": [
    {
     "name": "stdout",
     "output_type": "stream",
     "text": [
      "[[7]\n",
      " [8]\n",
      " [9]]\n"
     ]
    }
   ],
   "source": [
    "# transposing\n",
    "c = b.transpose()\n",
    "print(c)"
   ]
  },
  {
   "cell_type": "code",
   "execution_count": 11,
   "metadata": {},
   "outputs": [
    {
     "name": "stdout",
     "output_type": "stream",
     "text": [
      "[[1 2 3]\n",
      " [4 5 6]\n",
      " [7 8 9]]\n"
     ]
    }
   ],
   "source": [
    "# concatenating two arrays\n",
    "# what happens if you change the second argument to axis=1?\n",
    "# what happens if you remove this argument altogether?\n",
    "d = np.concatenate((a,b),axis=0)\n",
    "print(d)"
   ]
  },
  {
   "cell_type": "code",
   "execution_count": 12,
   "metadata": {},
   "outputs": [
    {
     "name": "stdout",
     "output_type": "stream",
     "text": [
      "[[ 50]\n",
      " [122]\n",
      " [194]]\n"
     ]
    }
   ],
   "source": [
    "# dot product of two arrays\n",
    "e = np.dot(d,c)\n",
    "print(e)"
   ]
  },
  {
   "cell_type": "code",
   "execution_count": 13,
   "metadata": {},
   "outputs": [
    {
     "name": "stdout",
     "output_type": "stream",
     "text": [
      "(array([ 1.61168440e+01, -1.11684397e+00, -9.75918483e-16]), array([[-0.23197069, -0.78583024,  0.40824829],\n",
      "       [-0.52532209, -0.08675134, -0.81649658],\n",
      "       [-0.8186735 ,  0.61232756,  0.40824829]]))\n"
     ]
    }
   ],
   "source": [
    "# calculate eigenvalues\n",
    "# https://docs.scipy.org/doc/numpy/reference/generated/numpy.linalg.eig.html\n",
    "f = np.linalg.eig(d)\n",
    "print(f)"
   ]
  },
  {
   "cell_type": "code",
   "execution_count": 23,
   "metadata": {},
   "outputs": [
    {
     "name": "stdout",
     "output_type": "stream",
     "text": [
      "[ 4.5       +0.j          2.08155948-1.65109876j -1.83155948+1.60822041j\n",
      " -1.83155948-1.60822041j  2.08155948+1.65109876j]\n"
     ]
    }
   ],
   "source": [
    "# fast fourier transform example\n",
    "# https://docs.scipy.org/doc/numpy/reference/routines.fft.html\n",
    "a = np.array([1., 2., 1., -1., 1.5])\n",
    "b = np.fft.fft(a)\n",
    "print(b)"
   ]
  },
  {
   "cell_type": "code",
   "execution_count": 24,
   "metadata": {},
   "outputs": [
    {
     "name": "stdout",
     "output_type": "stream",
     "text": [
      "[1. 5.]\n"
     ]
    }
   ],
   "source": [
    "# lots of stats functions: https://docs.scipy.org/doc/numpy/reference/routines.statistics.html\n",
    "a = np.array([[1.0, 2.0, 1.0, -1.0, 1.5],\n",
    "              [3, 5, 7, 15, -5]])\n",
    "print(np.median(a, axis=1))"
   ]
  },
  {
   "cell_type": "code",
   "execution_count": 25,
   "metadata": {},
   "outputs": [
    {
     "name": "stdout",
     "output_type": "stream",
     "text": [
      "(array([1, 0, 1, 4, 1, 1, 1, 0, 0, 1], dtype=int64), array([-5., -3., -1.,  1.,  3.,  5.,  7.,  9., 11., 13., 15.]))\n"
     ]
    }
   ],
   "source": [
    "# calculate frequencies and bins for histogram of flattened data\n",
    "# first array returned gives frequencies, second gives bins used\n",
    "print(np.histogram(a))"
   ]
  },
  {
   "cell_type": "code",
   "execution_count": null,
   "metadata": {},
   "outputs": [],
   "source": []
  }
 ],
 "metadata": {
  "kernelspec": {
   "display_name": "Python 3",
   "language": "python",
   "name": "python3"
  },
  "language_info": {
   "codemirror_mode": {
    "name": "ipython",
    "version": 3
   },
   "file_extension": ".py",
   "mimetype": "text/x-python",
   "name": "python",
   "nbconvert_exporter": "python",
   "pygments_lexer": "ipython3",
   "version": "3.7.6"
  }
 },
 "nbformat": 4,
 "nbformat_minor": 2
}
